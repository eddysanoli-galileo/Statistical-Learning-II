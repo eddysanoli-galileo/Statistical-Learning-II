{
 "metadata": {
  "language_info": {
   "codemirror_mode": {
    "name": "ipython",
    "version": 3
   },
   "file_extension": ".py",
   "mimetype": "text/x-python",
   "name": "python",
   "nbconvert_exporter": "python",
   "pygments_lexer": "ipython3",
   "version": "3.9.2"
  },
  "orig_nbformat": 4,
  "kernelspec": {
   "name": "python3",
   "display_name": "Python 3.9.2 64-bit"
  },
  "interpreter": {
   "hash": "658dc12c475a3a8caebf03b24f414cffa2901ebd330ffd26b9c22f028a90850c"
  }
 },
 "nbformat": 4,
 "nbformat_minor": 2,
 "cells": [
  {
   "cell_type": "markdown",
   "source": [
    "# Práctica 3"
   ],
   "metadata": {}
  },
  {
   "cell_type": "code",
   "execution_count": 3,
   "source": [
    "import pandas as pd \r\n",
    "import numpy as np \r\n",
    "import matplotlib.pyplot as plt"
   ],
   "outputs": [],
   "metadata": {}
  },
  {
   "cell_type": "markdown",
   "source": [
    "## Maldición de Dimensionalidad\r\n",
    "\r\n",
    "Usando el dataset de estaturas aplicar detección de anomalías\r\n",
    "\r\n",
    "1. Usar el dataset de precios de casas\r\n",
    "\r\n",
    "2. Usar \"PolynomialFeatures\" para calcular features polinómicas y analizar la dimensionalidad resultante al usar polinomios de grado 2 y 3 para 1, 2 y 3 variables de entrada (es irrelevante la variable seleccionada)\r\n",
    "\r\n",
    "3. No entrenar ningún modelo, solo analizar el comportamiento del número de dimensiones (por ejemplo, utilizando plots comparativos).\r\n"
   ],
   "metadata": {}
  },
  {
   "cell_type": "code",
   "execution_count": 17,
   "source": [
    "from sklearn.preprocessing import PolynomialFeatures\r\n",
    "\r\n",
    "# Se cargan los datos\r\n",
    "dataset = pd.read_csv(\"train.csv\")\r\n",
    "\r\n",
    "# Lista con variables de entrada\r\n",
    "input_vars = [[\"longitude\"],\r\n",
    "              [\"longitude\", \"total_rooms\"],\r\n",
    "              [\"longitude\", \"total_rooms\", \"households\"]]\r\n",
    "\r\n",
    "# Se itera sobre cada conjunto de variables\r\n",
    "for input_var in input_vars:\r\n",
    "\r\n",
    "    for deg in range(2,5):\r\n",
    "\r\n",
    "        # Se extraen las variables de entrada\r\n",
    "        var_data = dataset[input_var].to_numpy()\r\n",
    "\r\n",
    "        # Los datos se tornan bidimensionales de ser necesario\r\n",
    "        if len(var_data.shape) < 2:\r\n",
    "            var_data = np.reshape(var_data, (-1, 1))\r\n",
    "\r\n",
    "        # Se calculan las polinomial features\r\n",
    "        var_data_exp = PolynomialFeatures(degree = deg).fit_transform(var_data)\r\n",
    "        \r\n",
    "        # Se imprime el número de features resultantes\r\n",
    "        print(f\"No Variables Entrada: {len(input_var)} | Grados: {deg} | No Nuevas Features: {var_data_exp.shape[1]}\")\r\n"
   ],
   "outputs": [
    {
     "output_type": "stream",
     "name": "stdout",
     "text": [
      "No Variables Entrada: 1 | Grados: 2 | No Nuevas Features: 3\n",
      "No Variables Entrada: 1 | Grados: 3 | No Nuevas Features: 4\n",
      "No Variables Entrada: 1 | Grados: 4 | No Nuevas Features: 5\n",
      "No Variables Entrada: 2 | Grados: 2 | No Nuevas Features: 6\n",
      "No Variables Entrada: 2 | Grados: 3 | No Nuevas Features: 10\n",
      "No Variables Entrada: 2 | Grados: 4 | No Nuevas Features: 15\n",
      "No Variables Entrada: 3 | Grados: 2 | No Nuevas Features: 10\n",
      "No Variables Entrada: 3 | Grados: 3 | No Nuevas Features: 20\n",
      "No Variables Entrada: 3 | Grados: 4 | No Nuevas Features: 35\n"
     ]
    }
   ],
   "metadata": {}
  },
  {
   "cell_type": "markdown",
   "source": [
    "El patrón de incremento de dimensionalidad para 3 features de entrada parece ser de 10, 20 y 35, para 2, 3 y 4 grados respectivamente. Dada esta información podemos concluir que si $m$ consiste del número de features de entrada, y $n$ consiste del grado utilizado para la expansión, el número de dimensiones de salida será igual a \r\n",
    "\r\n",
    "$$\\left(\\begin{array}{c}n+m \\\\ n\\end{array}\\right)$$\r\n",
    "\r\n",
    "Dado que esta expresión consiste de una combinación, se puede establecer que esta equivale a\r\n",
    "\r\n",
    "$$\\left(\\begin{array}{c}n+m \\\\ n\\end{array}\\right) = \\frac{(n+m) !}{n !((n+m)-n) !} = \\frac{(n+m) !}{n ! m !}$$\r\n",
    "\r\n",
    "Podemos graficar esta función al realizar un barrido de valores para tanto $n$ como $m$. De esta manera podemos ser testigos de lo rápido que comienza a crecer la dimensionalidad conforme se incrementan los parámetros"
   ],
   "metadata": {}
  },
  {
   "cell_type": "code",
   "execution_count": 26,
   "source": [
    "from scipy.special import factorial\r\n",
    "\r\n",
    "# Se deja fijo el grado y se hace un barrido de valores para\r\n",
    "# el número de features de entrada\r\n",
    "n = 3\r\n",
    "m = np.linspace(1, 50, 50)\r\n",
    "\r\n",
    "# Se calcula el número de features de salida bajo las condiciones previas\r\n",
    "outputFeat_m = factorial(n + m) / (factorial(n) * factorial(m)) \r\n",
    "\r\n",
    "# Se calcula el número de features de salida dejando el número de\r\n",
    "# features de entrada fijo y barriendo el grado\r\n",
    "n = np.linspace(1, 50, 50)\r\n",
    "m = 3\r\n",
    "outputFeat_n = factorial(n + m) / (factorial(n) * factorial(m)) \r\n",
    "\r\n",
    "# Se redefinen \"M\" y \"N\" como barridos de parámetros\r\n",
    "m = np.linspace(1, 50, 50)\r\n",
    "n = np.linspace(1, 50, 50)\r\n",
    "\r\n",
    "# Se crean dos subplots\r\n",
    "f, axs = plt.subplots(1,2)\r\n",
    "\r\n",
    "axs[0].plot(m, outputFeat_m)\r\n",
    "axs[0].scatter(m, outputFeat_m)\r\n",
    "axs[0].set_title(\"Variando M\")\r\n",
    "axs[0].set_xlabel(\"M (Input Features)\")\r\n",
    "axs[1].plot(n, outputFeat_n)\r\n",
    "axs[1].scatter(n, outputFeat_n)\r\n",
    "axs[1].set_title(\"Variando N\")\r\n",
    "axs[1].set_xlabel(\"N (Grados)\")\r\n",
    "\r\n",
    "# Solo se incluyen las X y Y labels para los plots extremos\r\n",
    "for ax in axs.flat:\r\n",
    "    ax.set(ylabel='No. Output Features')\r\n",
    "\r\n",
    "# Se eliminan los ticks entre gráficas, solo se mantienen los ticks extremos\r\n",
    "for ax in axs.flat:\r\n",
    "    ax.label_outer()\r\n",
    "\r\n",
    "# Se despliega la gráfica\r\n",
    "plt.show()"
   ],
   "outputs": [
    {
     "output_type": "display_data",
     "data": {
      "text/plain": [
       "<Figure size 432x288 with 2 Axes>"
      ],
      "image/png": "[encoded data removed]"
     },
     "metadata": {
      "needs_background": "light"
     }
    }
   ],
   "metadata": {}
  },
  {
   "cell_type": "markdown",
   "source": [
    "Como se puede observar, el número de features de salida presenta el mismo ritmo de incremento exponencial tanto si se incrementa el número de features de entrada, o si se incrementa el número de grados. De aquí la razón por la que se le llama \"the curse of dimensionality\". En este caso, a medida que incrementamos linealmente el volumen de información de entrada, la cantidad de información de salida incrementa de manera exponencial, causando que rápidamente la cantidad de información se torne in-manejable (¿Cómo manipular data con 50 features de entrada y expandida a casi 30000 de salida? Es una situación complicada en la que se debe recurrir a utilizar arquitecturas especializadas o supercomputadoras.)"
   ],
   "metadata": {}
  }
 ]
}