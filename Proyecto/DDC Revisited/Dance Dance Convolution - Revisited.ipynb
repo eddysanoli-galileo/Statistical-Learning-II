{
 "cells": [
  {
   "cell_type": "markdown",
   "source": [
    "# Dance Dance Convolution - Revisited\r\n",
    "\r\n",
    "Revision of the original \"Dance Dance Convolution\" paper, that incorporates newer machine learning and AI techniques to \"hopefully\" improve the original model results."
   ],
   "metadata": {}
  },
  {
   "cell_type": "markdown",
   "source": [
    "## Imports"
   ],
   "metadata": {}
  },
  {
   "cell_type": "code",
   "execution_count": 1,
   "source": [
    "import os \r\n",
    "from os.path import isfile, join, splitext, basename, normpath\r\n",
    "from pathlib import Path\r\n",
    "from collections import defaultdict\r\n",
    "import numpy as np\r\n",
    "from sm_parsing import stepfile_parser"
   ],
   "outputs": [],
   "metadata": {}
  },
  {
   "cell_type": "markdown",
   "source": [
    "## Loading and Cleaning Dataset"
   ],
   "metadata": {}
  },
  {
   "cell_type": "code",
   "execution_count": 2,
   "source": [
    "# Path to dataset\r\n",
    "base_path = \"./dataset\"\r\n",
    "\r\n",
    "# Song packs inside dataset\r\n",
    "# (Ignores files that are not directories)\r\n",
    "song_packs = [f for f in os.listdir(base_path) if not isfile(join(base_path, f))]\r\n",
    "\r\n",
    "print(f\"Found a total of {len(song_packs)} song packs.\")\r\n",
    "\r\n",
    "# =======================================\r\n",
    "# SONG PACK CLEANING AND DATA EXTRACTION\r\n",
    "# =======================================\r\n",
    "\r\n",
    "# Files that dont add anything to training are deleted (videos, images, txts, etc.)\r\n",
    "# Wanted file extensions\r\n",
    "wanted_ext = [\".ssc\", \".sm\", \".ogg\", \".ini\"]\r\n",
    "\r\n",
    "# Counter for the number of files deleted.\r\n",
    "files_deleted = 0\r\n",
    "\r\n",
    "# Counter for the number of songs encountered\r\n",
    "songs_encountered = 0\r\n",
    "\r\n",
    "# Dictionary that will get one entry for each pack\r\n",
    "pack_data = {}\r\n",
    "\r\n",
    "# For every song pack\r\n",
    "for pack_name in song_packs:\r\n",
    "\r\n",
    "    # Empty dict that stores all relevant filepaths for a song inside a pack\r\n",
    "    # All unseen keys are assigned an empty list by default\r\n",
    "    song_data = defaultdict(lambda: [])\r\n",
    "\r\n",
    "    # Go through every file in the song pack\r\n",
    "    # (including files and subfiles)\r\n",
    "    for path, _, files in os.walk(join(base_path, pack_name)):\r\n",
    "\r\n",
    "        # For every file inside the base path\r\n",
    "        for file in files: \r\n",
    "\r\n",
    "            # Get the current file's parent folder (song folder)\r\n",
    "            # 1. The absolute path for the parent directory is extracted\r\n",
    "            # 2. 'normpath' strips off any trailing slashes\r\n",
    "            # 3. 'basename' returns the last part of the path\r\n",
    "            parent_name = basename(normpath(Path(path)))\r\n",
    "\r\n",
    "            # If the file has a \"pack_name\" as a parent the file is outside \r\n",
    "            # a song folder, it is ignored as a result.\r\n",
    "            if parent_name in song_packs:\r\n",
    "                print(f\"Found '{file}' outside of a song folder. Ignoring file.\")\r\n",
    "                continue\r\n",
    "\r\n",
    "            # The file extension is extracted\r\n",
    "            _, ext = splitext(file)\r\n",
    "\r\n",
    "            # File is deleted if it has an unwanted extension\r\n",
    "            if ext not in wanted_ext:\r\n",
    "                try:\r\n",
    "                    os.remove(join(path, file))\r\n",
    "                    files_deleted += 1\r\n",
    "                except Exception as e:\r\n",
    "                    raise Exception(e)\r\n",
    "\r\n",
    "            # All the paths that relate to a song are stored in a dict\r\n",
    "            # according to their name and the songpack they belong to\r\n",
    "            else:\r\n",
    "                song_data[parent_name].append(join(path, file))\r\n",
    "    \r\n",
    "    # The \"song_data\" is stored inside the \"pack_data\"\r\n",
    "    # (This is to prevent two packs having the same title for a\r\n",
    "    # song and risking overwriting the data for one song.)\r\n",
    "    pack_data[pack_name] = song_data\r\n",
    "\r\n",
    "    # We add the number of songs in the pack to \"songs_encountered\"\r\n",
    "    songs_encountered += len(list(song_data.keys()))\r\n",
    "\r\n",
    "# Printout after cleaning\r\n",
    "if files_deleted == 0:\r\n",
    "    print(f\"Dataset already clean. {songs_encountered} songs found. 0 files deleted.\")\r\n",
    "else:\r\n",
    "    print(f\"Dataset cleaned successfully. {songs_encountered} songs found. {files_deleted} files deleted.\")\r\n"
   ],
   "outputs": [
    {
     "output_type": "stream",
     "name": "stdout",
     "text": [
      "Found a total of 6 song packs.\n",
      "Found 'group.ini' outside of a song folder. Ignoring file.\n",
      "Dataset already clean. 230 songs found. 0 files deleted.\n"
     ]
    }
   ],
   "metadata": {}
  },
  {
   "cell_type": "markdown",
   "source": [
    "## Data Extraction from Stepfiles"
   ],
   "metadata": {}
  },
  {
   "cell_type": "code",
   "execution_count": 3,
   "source": [
    "# Extension of the required stepfile\r\n",
    "stepfile_ext = \".sm\"\r\n",
    "\r\n",
    "# Counter for songs successfully processed\r\n",
    "successfully_processed = 0\r\n",
    "\r\n",
    "# For every pack in the dataset\r\n",
    "for pack_name in pack_data.keys():\r\n",
    "    \r\n",
    "    # For every song in the song pack\r\n",
    "    for song_name in pack_data[pack_name]: \r\n",
    "\r\n",
    "        try:\r\n",
    "            # For every path corresponding to the current song, we take\r\n",
    "            # the one that contains the extension that we need. Due to it being\r\n",
    "            # returned inside of a list, we get the first element.\r\n",
    "            stepfile_path = [path for path in pack_data[pack_name][song_name] if stepfile_ext in path][0]\r\n",
    "\r\n",
    "            # Step file content is extracted as text\r\n",
    "            with open(stepfile_path, 'r', encoding=\"utf-8\") as stepfile:\r\n",
    "                stepfile_txt = stepfile.read()\r\n",
    "            \r\n",
    "            # The text of each song is parsed and turned into a dict of tags\r\n",
    "            stepfile_tags = stepfile_parser(stepfile_txt)\r\n",
    "\r\n",
    "            # Increase the number of files succesfully processed\r\n",
    "            successfully_processed += 1\r\n",
    "\r\n",
    "        # If an error occurs while getting the stepfile path,\r\n",
    "        # the program skips the current song\r\n",
    "        except Exception:\r\n",
    "            print(f\"No '{stepfile_ext}' found for song '{song_name}' in song pack '{pack_name}'. Skipping song.\")\r\n",
    "            continue\r\n",
    "\r\n",
    "# Successful files\r\n",
    "print(f\"Number of succesfully processed songs: {successfully_processed} / {songs_encountered}\")"
   ],
   "outputs": [
    {
     "output_type": "stream",
     "name": "stdout",
     "text": [
      "Number of succesfully processed songs: 230 / 230\n"
     ]
    }
   ],
   "metadata": {}
  },
  {
   "cell_type": "code",
   "execution_count": null,
   "source": [],
   "outputs": [],
   "metadata": {}
  }
 ],
 "metadata": {
  "orig_nbformat": 4,
  "language_info": {
   "name": "python",
   "version": "3.9.2",
   "mimetype": "text/x-python",
   "codemirror_mode": {
    "name": "ipython",
    "version": 3
   },
   "pygments_lexer": "ipython3",
   "nbconvert_exporter": "python",
   "file_extension": ".py"
  },
  "kernelspec": {
   "name": "python3",
   "display_name": "Python 3.9.2 64-bit"
  },
  "interpreter": {
   "hash": "658dc12c475a3a8caebf03b24f414cffa2901ebd330ffd26b9c22f028a90850c"
  }
 },
 "nbformat": 4,
 "nbformat_minor": 2
}